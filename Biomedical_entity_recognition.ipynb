{
  "nbformat": 4,
  "nbformat_minor": 0,
  "metadata": {
    "accelerator": "GPU",
    "colab": {
      "name": "Assignment 4.ipynb",
      "provenance": [],
      "collapsed_sections": []
    },
    "kernelspec": {
      "display_name": "Python 3",
      "language": "python",
      "name": "python3"
    },
    "language_info": {
      "codemirror_mode": {
        "name": "ipython",
        "version": 3
      },
      "file_extension": ".py",
      "mimetype": "text/x-python",
      "name": "python",
      "nbconvert_exporter": "python",
      "pygments_lexer": "ipython3",
      "version": "3.8.5"
    }
  },
  "cells": [
    {
      "cell_type": "code",
      "metadata": {
        "id": "201WFnmACwow",
        "colab": {
          "base_uri": "https://localhost:8080/"
        },
        "outputId": "aef3b6a5-501e-4969-fede-4a05856d458a"
      },
      "source": [
        "from google.colab import drive\n",
        "drive.mount('/content/drive')"
      ],
      "execution_count": null,
      "outputs": [
        {
          "output_type": "stream",
          "text": [
            "Mounted at /content/drive\n"
          ],
          "name": "stdout"
        }
      ]
    },
    {
      "cell_type": "code",
      "metadata": {
        "id": "z5vUfP7hyotU"
      },
      "source": [
        "!pip install transformers==3.3.1"
      ],
      "execution_count": null,
      "outputs": []
    },
    {
      "cell_type": "markdown",
      "metadata": {
        "id": "pkIGcV66yNLb"
      },
      "source": [
        "# Design Choices in Biomedical Entity Recognition\n",
        "\n",
        "\n",
        "### Requirements\n",
        "In addition to PyTorch and torchtext, you'll need to make sure that the following libraries are available:\n",
        "- [torchtext](https://pytorch.org/text/stable/index.html) to deal with integer encoding and batching. Pre-installed on Colab. \n",
        "- [gensim](https://radimrehurek.com/gensim/) to load files containing pre-trained word embedding. This is available by default in Colab.\n",
        "- [pytorch-crf](https://pytorch-crf.readthedocs.io/en/stable/) to use the conditional random field output layer. Needs to be installed if you use Colab.\n",
        "\n",
        "If you want to solve the optional task involving BERT, you'll also need\n",
        "- [transformers](https://github.com/huggingface/transformers), which also needs to be installed if you're using Colab."
      ]
    },
    {
      "cell_type": "code",
      "metadata": {
        "id": "teK35VRtyNLc"
      },
      "source": [
        "import torch\n",
        "from torch import nn\n",
        "import time\n",
        "import torchtext\n",
        "from torchtext.legacy import data as td\n",
        "import numpy as np\n",
        "import sys\n",
        "\n",
        "import random\n",
        "\n",
        "#from torchcrf import CRF\n",
        "\n",
        "import gensim.downloader\n",
        "from gensim.models import KeyedVectors\n",
        "\n",
        "# If you're using BERT, import these:\n",
        "#from transformers import AutoTokenizer, AutoModel\n",
        "\n",
        "from collections import defaultdict, Counter\n",
        "\n",
        "import matplotlib.pyplot as plt\n",
        "\n",
        "%config InlineBackend.figure_format = 'retina' \n",
        "plt.style.use('seaborn')"
      ],
      "execution_count": null,
      "outputs": []
    },
    {
      "cell_type": "markdown",
      "metadata": {
        "id": "mt67FjwTyNLd"
      },
      "source": [
        "## 1. Reading the data in a tabular format\n",
        "\n",
        "The following function reads a file represented in a tabular format. In this format, each row corresponds to one token. For each token, there is a word and the BIO-coded named entity label, separated by whitespace. The sentences are separated by empty lines. Here is an example of a sentence.\n",
        "```\n",
        "In              O\n",
        "conclusion      O\n",
        ",               O\n",
        "hyperammonemic  B-Disease\n",
        "encephalopathy  I-Disease\n",
        "can             O\n",
        "occur           O\n",
        "in              O\n",
        "patients        O\n",
        "receiving       O\n",
        "continuous      O\n",
        "infusion        O\n",
        "of              O\n",
        "5               B-Chemical\n",
        "-               I-Chemical\n",
        "FU              I-Chemical\n",
        ".               O\n",
        "```\n",
        "The function reads the file in this format and returns a torchtext `Dataset`, which in turn consists of a number of `Example`. We will use just the words and the BIO labels, for the input and output respectively.\n",
        "\n",
        "If we provide a BERT tokenizer for splitting words into word pieces, this function will also apply the tokenizer to each word. For instance, the word `hyperammonemic` will be split into six word pieces: `h ##yper ##am ##mon ##em ##ic`. Note that in cases such as this one, we'll have to keep track of the output labels: the output will be set to `B-Disease` for the first word piece, and `I-Disease` for the rest of the pieces."
      ]
    },
    {
      "cell_type": "code",
      "metadata": {
        "id": "cCzNzNWmyNLd"
      },
      "source": [
        "def read_data(corpus_file, datafields, tokenizer, max_len, n_instances=None):\n",
        "    print(f'Reading sentences from {corpus_file}...', end=' ')\n",
        "    sys.stdout.flush()\n",
        "    \n",
        "    with open(corpus_file, encoding='utf-8') as f:\n",
        "        examples = []\n",
        "        tokens = []\n",
        "        labels = []\n",
        "        n_truncated = 0\n",
        "        for line in f:\n",
        "            line = line.strip()\n",
        "            if not line:\n",
        "                \n",
        "                # For BERT, we need to truncate the sentences...\n",
        "                if len(tokens) > max_len-2:\n",
        "                    tokens = tokens[:max_len-2]\n",
        "                    labels = labels[:max_len-2]\n",
        "                    n_truncated += 1\n",
        "\n",
        "                examples.append(td.Example.fromlist([tokens, labels], datafields))\n",
        "                \n",
        "                tokens = []\n",
        "                labels = []        \n",
        "                    \n",
        "                if len(examples) == n_instances:\n",
        "                    break\n",
        "                \n",
        "            else:\n",
        "                columns = line.split()\n",
        "                \n",
        "                word = columns[0]\n",
        "                label = columns[-1]\n",
        "                    \n",
        "                if not tokenizer:\n",
        "                    # If we aren't using a BERT tokenizer, just add the word and label.\n",
        "                    tokens.append(word)\n",
        "                    labels.append(label)\n",
        "                else:\n",
        "                    # If we are using a BERT tokenizer, we need to append each word piece.\n",
        "                    # Note that if we split a word into pieces, we need to make sure we\n",
        "                    # add sensible output labels (e.g. I-Disease after B-Disease).\n",
        "                    for token in tokenizer.tokenize(word):\n",
        "                        tokens.append(token)\n",
        "                        labels.append(label)\n",
        "                        if label[0] == 'B':\n",
        "                            label = 'I' + label[1:]\n",
        "        print(f'Read {len(examples)} sentences, truncated {n_truncated}.')\n",
        "        \n",
        "        return torchtext.legacy.data.Dataset(examples, datafields)"
      ],
      "execution_count": null,
      "outputs": []
    },
    {
      "cell_type": "markdown",
      "metadata": {
        "id": "iavhAPiLyNLd"
      },
      "source": [
        "## 2. The sentence encoder\n",
        "\n",
        "This is the part that will require a few small modifications."
      ]
    },
    {
      "cell_type": "code",
      "metadata": {
        "id": "n81SJ6amyNLd"
      },
      "source": [
        "class SentenceEncoder(nn.Module):\n",
        "\n",
        "    def __init__(self, word_field, char_field, gensim_model, conf):        \n",
        "        super().__init__()\n",
        "\n",
        "        # Word dropout probability\n",
        "        self.word_dropout_prob = conf.word_dropout_prob\n",
        "        self.dropout_probability = conf.dropout_probability\n",
        "        \n",
        "        # Create a word embedding layer using the auxiliary function defined below.\n",
        "        self.word_embedding = make_embedding_layer(word_field, gensim_model, conf)\n",
        "\n",
        "        word_dim = self.word_embedding.weight.shape[1]\n",
        "\n",
        "        if conf.use_characters and conf.char_emb_dim > 0:\n",
        "            ### YOUR CODE HERE (if you decide to consider the characters) ###\n",
        "            # ...\n",
        "            # word_dim += ...\n",
        "            raise Exception(\"We haven't implemented a character-based model!\")\n",
        "        else:\n",
        "            pass\n",
        "                \n",
        "        if conf.rnn_size > 0 and conf.rnn_depth > 0:\n",
        "            self.word_rnn = nn.LSTM(input_size=word_dim,\n",
        "                                hidden_size=conf.rnn_size,\n",
        "                                num_layers=conf.rnn_depth,\n",
        "                                batch_first=True, \n",
        "                                bidirectional=True,\n",
        "                                dropout=self.dropout_probability) \n",
        "            \n",
        "            # raise Exception(\"We haven't implemented a RNN-based sentence representation!\")\n",
        "            self.output_size = 2*conf.rnn_size\n",
        "        else:\n",
        "            self.word_rnn = None\n",
        "            self.output_size = word_dim  \n",
        "\n",
        "    # This function performs word_dropout to avoid overfitting in each forward run\n",
        "    def word_dropout(self, words, word_dropout_prob):\n",
        "        w_dropout = (torch.rand(size=words.shape, device=words.device) > word_dropout_prob).long()\n",
        "        ans= w_dropout * words\n",
        "        return ans\n",
        "\n",
        "    def forward(self, words, chars):\n",
        "        # - words is a LongTensor of shape (n_sentences, n_words)\n",
        "        # - chars is a LongTensor of shape (n_sentences, n_words, n_chars)\n",
        "\n",
        "        #Perform Word Droupout\n",
        "        words = self.word_dropout(words, self.word_dropout_prob)\n",
        "\n",
        "        word_repr = self.word_embedding(words)\n",
        "\n",
        "        #if SOMETHING (if you're considering the characters)\n",
        "        #    n_sent, n_words, n_chars = chars.shape\n",
        "        #    ... YOUR CODE HERE ...\n",
        "        #    word_repr = torch.cat([word_repr, ... SOMETHING ...])\n",
        "\n",
        "        if self.word_rnn:\n",
        "            output, _ = self.word_rnn(word_repr)\n",
        "        else:\n",
        "            output = word_repr        \n",
        "        \n",
        "        return output"
      ],
      "execution_count": null,
      "outputs": []
    },
    {
      "cell_type": "markdown",
      "metadata": {
        "id": "pcsUWuW2yNLe"
      },
      "source": [
        "## 3. Using gensim to load pre-trained word embeddings \n",
        "\n",
        "The following two auxiliary functions help us load gensim models and to convert them for use with torchtext."
      ]
    },
    {
      "cell_type": "code",
      "metadata": {
        "id": "QG8gnXwAyNLe"
      },
      "source": [
        "def make_embedding_layer(word_field, gensim_model, conf):\n",
        "\n",
        "    if gensim_model:\n",
        "        vectors, voc, _ = gensim_model\n",
        "        # We assume that there are special symbols for unknown, beginning, end, pad.\n",
        "        n_specials = 4 \n",
        "        word_field.vocab.itos = word_field.vocab.itos[:n_specials] + voc\n",
        "        word_field.vocab.stoi = defaultdict(word_field.vocab.stoi.default_factory)\n",
        "        for i, w in enumerate(word_field.vocab.itos):\n",
        "            word_field.vocab.stoi[w] = i\n",
        "        emb_dim = vectors.shape[1]\n",
        "    else:\n",
        "        emb_dim = conf.default_emb_dim\n",
        "    \n",
        "    emb_layer = nn.Embedding(len(word_field.vocab), emb_dim)\n",
        "    if not conf.finetune_w_emb:\n",
        "        # If we don't fine-tune, create a tensor where we don't compute the gradients.\n",
        "        emb_layer.weight = nn.Parameter(emb_layer.weight, requires_grad=False)\n",
        "\n",
        "    if gensim_model:\n",
        "        with torch.no_grad():\n",
        "            # Copy the pre-trained embedding weights into our embedding layer.\n",
        "            emb_layer.weight[n_specials:, :] = vectors\n",
        "        \n",
        "    return emb_layer"
      ],
      "execution_count": null,
      "outputs": []
    },
    {
      "cell_type": "code",
      "metadata": {
        "id": "E-xxPvpuyNLe"
      },
      "source": [
        "\n",
        "def load_gensim_vectors(model_file, builtin=False, limit=None):\n",
        "    print(f\"Loading model '{model_file}' via gensim...\", end='')\n",
        "    sys.stdout.flush()\n",
        "    if builtin:\n",
        "        gensim_model = gensim.downloader.load(model_file)\n",
        "    else:\n",
        "        gensim_model = KeyedVectors.load_word2vec_format(model_file, binary=True, limit=limit)\n",
        "    if not limit:\n",
        "        limit = len(gensim_model.index2word)\n",
        "    vectors = torch.FloatTensor(gensim_model.vectors[:limit])\n",
        "    voc = gensim_model.index2word[:limit]\n",
        "\n",
        "    is_cased = False\n",
        "    for w in voc:\n",
        "        w0 = w[0]\n",
        "        if w0.isupper(): #w0.isascii() and w0.isupper():\n",
        "            is_cased = True\n",
        "            break\n",
        "    \n",
        "    print(' done!')\n",
        "    return vectors, voc, is_cased\n"
      ],
      "execution_count": null,
      "outputs": []
    },
    {
      "cell_type": "markdown",
      "metadata": {
        "id": "MsRdWPZ1yNLe"
      },
      "source": [
        "## 4. The sequence tagger neural networks\n",
        "\n",
        "The code that predicts the output is mostly similar to what we saw in the lecture, except that the sentence encoder has been moved to a separate class.\n",
        "\n",
        "### A basic tagger with a linear output unit\n",
        "The simplest solution to produce the outputs is to just apply a linear output unit, as we saw in the lecture. (Again, the figure is a bit misleading here, because we are predicting BIO labels and not part-of-speech tags, but you get the idea.) Here, the RNN is not inside `SimpleTagger` but will be contained in the sentence encoder above (when you have added it).\n",
        "\n",
        "<img src=\"http://www.cse.chalmers.se/~richajo/nlp2019/l6/rnn_seq.svg\" alt=\"Drawing\" style=\"width: 500px;\"/>\n"
      ]
    },
    {
      "cell_type": "code",
      "metadata": {
        "id": "ToZjPOptyNLe"
      },
      "source": [
        "class SimpleTagger(nn.Module):\n",
        "    \n",
        "    def __init__(self, label_field, encoder, conf):\n",
        "        super().__init__()\n",
        "        \n",
        "        self.n_labels = len(label_field.vocab)       \n",
        "        self.encoder = encoder\n",
        "        self.top_layer = nn.Linear(encoder.output_size, self.n_labels)\n",
        "\n",
        "        # Loss function that we will use during training.\n",
        "        # We tell it to ignore the padding.\n",
        "        pad_label_id = label_field.vocab.stoi[label_field.pad_token]\n",
        "        self.loss = torch.nn.CrossEntropyLoss(ignore_index=pad_label_id)\n",
        "        \n",
        "                \n",
        "    def compute_outputs(self, words, chars):\n",
        "        # We call the encoder to create contextualized word representations.\n",
        "        # This will be a tensor of shape (n_sentences, n_words, encoder_output_size).\n",
        "        encoded = self.encoder(words, chars)\n",
        "\n",
        "        # Apply the linear output layer.\n",
        "        # The shape of the output tensor is (n_sentences, n_words, n_labels).\n",
        "        return self.top_layer(encoded)\n",
        "                        \n",
        "    def forward(self, words, chars, labels):\n",
        "        # Computes the output scores and then the loss function.\n",
        "        \n",
        "        # First compute the outputs. The shape is (n_sentences, n_words, n_labels).\n",
        "        scores = self.compute_outputs(words, chars)\n",
        "        \n",
        "        # Flatten the outputs and the gold-standard labels, to compute the loss.\n",
        "        # The input to this loss needs to be one 2-dimensional and one 1-dimensional tensor.\n",
        "        scores = scores.view(-1, self.n_labels)\n",
        "        labels = labels.view(-1)       \n",
        "        return self.loss(scores, labels)\n",
        "\n",
        "    def predict(self, words, chars):\n",
        "        # Compute the outputs from the linear units.\n",
        "        scores = self.compute_outputs(words, chars)\n",
        "\n",
        "        # Select the top-scoring labels. The shape is now (n_sentences, n_words).\n",
        "        predicted = scores.argmax(dim=2)\n",
        "\n",
        "        # We convert this output to a NumPy matrix. (This is mainly for compatibility with torchcrf.)\n",
        "        return predicted.cpu().numpy()"
      ],
      "execution_count": null,
      "outputs": []
    },
    {
      "cell_type": "markdown",
      "metadata": {
        "id": "9J2hzDm_yNLf"
      },
      "source": [
        "## 5. Evaluating the predicted named entities\n",
        "\n",
        "To evaluate our named entity recognizers, we compare the named entities predicted by the system to the entities in the gold standard. We follow standard practice and compute [precision and recall](https://en.wikipedia.org/wiki/Precision_and_recall) scores, as well as the harmonic mean of the precision and recall, known as the F-score.\n",
        "\n",
        "Please note that the precision and recall scores are computed with respect to the full named entity spans and labels. To be counted as a correct prediction, the system needs to predict all words in the named entity correctly, and assign the right type of entity label. We don't give any credits to partially correct predictions."
      ]
    },
    {
      "cell_type": "code",
      "metadata": {
        "id": "B2AqJFTGyNLf"
      },
      "source": [
        "# Convert a list of BIO labels, coded as integers, into spans identified by a beginning, an end, and a label.\n",
        "# To allow easy comparison later, we store them in a dictionary indexed by the start position.\n",
        "def to_spans(l_ids, voc):\n",
        "    spans = {}\n",
        "    current_lbl = None\n",
        "    current_start = None\n",
        "    for i, l_id in enumerate(l_ids):\n",
        "        l = voc[l_id]\n",
        "\n",
        "        if l[0] == 'B': \n",
        "            # Beginning of a named entity: B-something.\n",
        "            if current_lbl:\n",
        "                # If we're working on an entity, close it.\n",
        "                spans[current_start] = (current_lbl, i)\n",
        "            # Create a new entity that starts here.\n",
        "            current_lbl = l[2:]\n",
        "            current_start = i\n",
        "        elif l[0] == 'I':\n",
        "            # Continuation of an entity: I-something.\n",
        "            if current_lbl:\n",
        "                # If we have an open entity, but its label does not\n",
        "                # correspond to the predicted I-tag, then we close\n",
        "                # the open entity and create a new one.\n",
        "                if current_lbl != l[2:]:\n",
        "                    spans[current_start] = (current_lbl, i)\n",
        "                    current_lbl = l[2:]\n",
        "                    current_start = i\n",
        "            else:\n",
        "                # If we don't have an open entity but predict an I tag,\n",
        "                # we create a new entity starting here even though we're\n",
        "                # not following the format strictly.\n",
        "                current_lbl = l[2:]\n",
        "                current_start = i\n",
        "        else:\n",
        "            # Outside: O.\n",
        "            if current_lbl:\n",
        "                # If we have an open entity, we close it.\n",
        "                spans[current_start] = (current_lbl, i)\n",
        "                current_lbl = None\n",
        "                current_start = None\n",
        "    return spans\n",
        "\n",
        "# Compares two sets of spans and records the results for future aggregation.\n",
        "def compare(gold, pred, stats):\n",
        "    for start, (lbl, end) in gold.items():\n",
        "        stats['total']['gold'] += 1\n",
        "        stats[lbl]['gold'] += 1\n",
        "    for start, (lbl, end) in pred.items():\n",
        "        stats['total']['pred'] += 1\n",
        "        stats[lbl]['pred'] += 1\n",
        "    for start, (glbl, gend) in gold.items():\n",
        "        if start in pred:\n",
        "            plbl, pend = pred[start]\n",
        "            if glbl == plbl and gend == pend:\n",
        "                stats['total']['corr'] += 1\n",
        "                stats[glbl]['corr'] += 1\n",
        "\n",
        "# This function combines the auxiliary functions we defined above.\n",
        "def evaluate_iob(predicted, gold, label_field, stats):\n",
        "    # The gold-standard labels are assumed to be an integer tensor of shape\n",
        "    # (max_len, n_sentences), as returned by torchtext.\n",
        "    gold_cpu = gold.cpu().numpy()\n",
        "    gold_cpu = list(gold_cpu.reshape(-1))\n",
        "\n",
        "    # The predicted labels assume the format produced by pytorch-crf, so we\n",
        "    # assume that they have been converted into a list already.\n",
        "    # We just flatten the list.\n",
        "    pred_cpu = [l for sen in predicted for l in sen]\n",
        "    \n",
        "    # Compute spans for the gold standard and prediction.\n",
        "    gold_spans = to_spans(gold_cpu, label_field.vocab.itos)\n",
        "    pred_spans = to_spans(pred_cpu, label_field.vocab.itos)\n",
        "\n",
        "    # Finally, update the counts for correct, predicted and gold-standard spans.\n",
        "    compare(gold_spans, pred_spans, stats)\n",
        "\n",
        "# Computes precision, recall and F-score, given a dictionary that contains\n",
        "# the counts of correct, predicted and gold-standard items.\n",
        "def prf(stats):\n",
        "    if stats['pred'] == 0:\n",
        "        return 0, 0, 0\n",
        "    p = stats['corr']/stats['pred']\n",
        "    r = stats['corr']/stats['gold']\n",
        "    if p > 0 and r > 0:\n",
        "        f = 2*p*r/(p+r)\n",
        "    else:\n",
        "        f = 0\n",
        "    return p, r, f"
      ],
      "execution_count": null,
      "outputs": []
    },
    {
      "cell_type": "markdown",
      "metadata": {
        "id": "czZkDQ8eyNLf"
      },
      "source": [
        "## 6. Training the sequence tagger\n",
        "\n",
        "Finally, the main class `Tagger`, which combines all the pieces defined above. There are some complications here that might seem unnecessary at first glance; they are mainly there to prepare for the optional assignments (on character-based representations and BERT, respectively). Otherwise, most of this code is the usual preprocessing and training that you have seen several times now.\n",
        "\n",
        "Note that the `train` method returns the best F1-score seen when evaluating on the validation set.\n",
        "\n",
        "The `tag` method will be used in the interactive demo."
      ]
    },
    {
      "cell_type": "code",
      "metadata": {
        "id": "Ue-D4jZOyNLf"
      },
      "source": [
        "class Tagger:\n",
        "    \n",
        "    def __init__(self, config, gensim_model=None, bert_model_name=None):\n",
        "        self.config = config\n",
        "        self.gensim_model = gensim_model\n",
        "        self.bert_model_name = bert_model_name\n",
        "        \n",
        "        # Some heuristics to try to determine whether we need to convert sentences to lowercase.\n",
        "        if bert_model_name:\n",
        "            lowercase = 'uncased' in bert_model_name\n",
        "            print('Lowercased BERT model?', lowercase)\n",
        "        elif gensim_model:\n",
        "            lowercase = not gensim_model[2]\n",
        "            print('Pre-trained word embedding shape:', gensim_model[0].shape)\n",
        "            print('Lowercased embeddings?', lowercase)\n",
        "        else:\n",
        "            print('No pre-trained word embedding model given.')\n",
        "            lowercase = False\n",
        "        \n",
        "        if bert_model_name:\n",
        "            # If we're using BERT, then let's use its tokenizer, and the special tags it relies on:\n",
        "            # [CLS] at the beginning of the sentence, [SEP] at the end, and [PAD] for padding.\n",
        "            #self.tokenizer = AutoTokenizer.from_pretrained(bert_model)\n",
        "            #self.tokenizer = BertTokenizer.from_pretrained(bert_model, do_lower_case=lowercase)\n",
        "            pad = self.tokenizer.pad_token           \n",
        "            self.WORD = torchtext.legacy.data.Field(init_token=self.tokenizer.cls_token, eos_token=self.tokenizer.sep_token, \n",
        "                                        sequential=True, lower=lowercase, pad_token=pad, batch_first=True)\n",
        "        else:\n",
        "            pad = '<pad>'\n",
        "            self.tokenizer = None\n",
        "            self.WORD = torchtext.legacy.data.Field(init_token='<bos>', eos_token='<eos>', \n",
        "                                        sequential=True, lower=lowercase, pad_token='<pad>', batch_first=True)\n",
        "            \n",
        "        self.LABEL = torchtext.legacy.data.Field(is_target=True, init_token='O', eos_token=pad, pad_token=pad, \n",
        "                                            sequential=True, unk_token=None, batch_first=True)\n",
        "\n",
        "        if config.use_characters:\n",
        "            # We use a NestedField in order to create character tensors in addition to word tensors.\n",
        "            CHAR_NESTING = torchtext.legacy.data.Field(tokenize=list, init_token=\"<bos>\", eos_token=\"<eos>\")\n",
        "            self.CHAR = torchtext.legacy.data.NestedField(CHAR_NESTING, init_token=\"<bos>\", eos_token=\"<eos>\")            \n",
        "            self.fields = [(('words', 'chars'), (self.WORD, self.CHAR)), ('labels', self.LABEL)]\n",
        "        else:\n",
        "            self.fields = [('words', self.WORD), ('labels', self.LABEL)]     \n",
        "            \n",
        "        self.device = 'cuda'\n",
        "                \n",
        "    def train(self):\n",
        "        \n",
        "        MAX_LEN = 128\n",
        "        \n",
        "        print('Reading and tokenizing...')\n",
        "\n",
        "        # Read training and validation data according to the predefined split.\n",
        "        train = read_data(self.config.train_file, self.fields, self.tokenizer, MAX_LEN) \n",
        "        valid = read_data(self.config.valid_file, self.fields, self.tokenizer, MAX_LEN) \n",
        "\n",
        "        if self.bert_model_name:\n",
        "            self.LABEL.build_vocab(train)\n",
        "            self.WORD.build_vocab(train)\n",
        "            # Here, we tell torchtext to use the vocabulary of BERT's tokenizer.\n",
        "            # .stoi is the map from strings to integers, and itos from integers to strings.\n",
        "            self.WORD.vocab.stoi = self.tokenizer.vocab\n",
        "            self.WORD.vocab.itos = list(self.tokenizer.vocab)\n",
        "\n",
        "            ### TODO YOUR CODE HERE\n",
        "            # Load a pre-trained BERT model\n",
        "            # bert_something = something(self.bert_model_name)\n",
        "\n",
        "            verbose = True\n",
        "        else:\n",
        "            self.WORD.build_vocab(train)\n",
        "            self.LABEL.build_vocab(train)\n",
        "            \n",
        "            if self.config.use_characters:\n",
        "                self.CHAR.build_vocab(train)\n",
        "                encoder = SentenceEncoder(self.WORD, self.CHAR, self.gensim_model, self.config)\n",
        "            else:\n",
        "                encoder = SentenceEncoder(self.WORD, None, self.gensim_model, self.config)\n",
        "            verbose = False\n",
        "                \n",
        "        # Use a CRF or a simple output layer, depending on the configuration.\n",
        "        if self.config.use_crf:\n",
        "            self.model = CRFTagger(self.LABEL, encoder)\n",
        "        else:\n",
        "            self.model = SimpleTagger(self.LABEL, encoder, self.config)\n",
        "    \n",
        "        self.model.to(self.device)\n",
        "            \n",
        "        train_iterator = torchtext.legacy.data.BucketIterator(\n",
        "            train,\n",
        "            device=self.device,\n",
        "            batch_size=self.config.train_batch_size,\n",
        "            sort_key=lambda x: len(x.words),\n",
        "            repeat=False,\n",
        "            train=True,\n",
        "            sort=True)\n",
        "\n",
        "        valid_iterator = torchtext.legacy.data.BucketIterator(\n",
        "            valid,\n",
        "            device=self.device,\n",
        "            batch_size=self.config.valid_batch_size,\n",
        "            sort_key=lambda x: len(x.words),\n",
        "            repeat=False,\n",
        "            train=False,\n",
        "            sort=True)\n",
        "        \n",
        "        train_batches = list(train_iterator)\n",
        "        valid_batches = list(valid_iterator)\n",
        "        \n",
        "        ### TODO: if you want to use BERT, this should be a bit different.\n",
        "        optimizer = torch.optim.Adam(self.model.parameters(), lr=0.0025) # weight_decay=1e-5)\n",
        "\n",
        "        history = defaultdict(list)    \n",
        "        best_f1 = -1\n",
        "        \n",
        "        for i in range(1, self.config.n_epochs + 1):\n",
        "\n",
        "            t0 = time.time()\n",
        "\n",
        "            loss_sum = 0\n",
        "\n",
        "            random.shuffle(train_batches)\n",
        "            \n",
        "            self.model.train()\n",
        "            for batch in train_batches:\n",
        "                if verbose:\n",
        "                    print('.', end='')\n",
        "                    sys.stdout.flush()\n",
        "                \n",
        "                chars = batch.chars if self.config.use_characters else None\n",
        "                loss = self.model(batch.words, chars, batch.labels)\n",
        "                \n",
        "                optimizer.zero_grad()            \n",
        "                loss.backward()\n",
        "                optimizer.step()\n",
        "                loss_sum += loss.item()\n",
        "\n",
        "            train_loss = loss_sum / len(train_batches)\n",
        "            history['train_loss'].append(train_loss)\n",
        "\n",
        "            if verbose:\n",
        "                print()\n",
        "            \n",
        "            # Evaluate on the validation set.\n",
        "            stats = defaultdict(Counter)\n",
        "\n",
        "            self.model.eval()\n",
        "            with torch.no_grad():\n",
        "                for batch in valid_batches:\n",
        "                    if verbose:\n",
        "                        print('.', end='')\n",
        "                        sys.stdout.flush()                        \n",
        "                    # Predict the model's output on a batch.\n",
        "                    chars = batch.chars if self.config.use_characters else None\n",
        "                    predicted = self.model.predict(batch.words, chars)\n",
        "\n",
        "                    # Update the evaluation statistics.\n",
        "                    evaluate_iob(predicted, batch.labels, self.LABEL, stats)\n",
        "\n",
        "            if verbose:\n",
        "                print()                \n",
        "\n",
        "            # Compute the overall F-score for the validation set.\n",
        "            _, _, val_f1 = prf(stats['total'])\n",
        "\n",
        "            if val_f1 > best_f1:\n",
        "                best_f1 = val_f1\n",
        "                best_epoch = i\n",
        "                best_stats = stats\n",
        "                \n",
        "            history['val_f1'].append(val_f1)\n",
        "\n",
        "            t1 = time.time()\n",
        "            if verbose or (i % 5 == 0):\n",
        "                print(f'Epoch {i}: train loss = {train_loss:.4f}, val f1: {val_f1:.4f}, time = {t1-t0:.4f}')\n",
        "           \n",
        "        # After the final evaluation, we print more detailed evaluation statistics, including\n",
        "        # precision, recall, and F-scores for the different types of named entities.\n",
        "        print()\n",
        "        print(f'Best result on the validation set (epoch {best_epoch}):')\n",
        "        p, r, f1 = prf(best_stats['total'])\n",
        "        print(f'Overall: P = {p:.4f}, R = {r:.4f}, F1 = {f1:.4f}')\n",
        "        for label in stats:\n",
        "            if label != 'total':\n",
        "                p, r, f1 = prf(best_stats[label])\n",
        "                print(f'{label:4s}: P = {p:.4f}, R = {r:.4f}, F1 = {f1:.4f}')\n",
        "        \n",
        "        plt.plot(history['train_loss'])\n",
        "        plt.plot(history['val_f1'])\n",
        "        plt.legend(['training loss', 'validation F-score'])\n",
        "        return best_f1\n",
        "        \n",
        "    def tag(self, sentences):\n",
        "        # This method applies the trained model to a list of sentences.\n",
        "        \n",
        "        # First, create a torchtext Dataset containing the sentences to tag.\n",
        "        examples = []\n",
        "        for sen in sentences:\n",
        "            examples.append(torchtext.legacy.data.Example.fromlist([sen, []], self.fields))\n",
        "        dataset = torchtext.legacy.data.Dataset(examples, self.fields)\n",
        "        \n",
        "        iterator = torchtext.legacy.data.Iterator(\n",
        "            dataset,\n",
        "            device=self.device,\n",
        "            batch_size=len(examples),\n",
        "            repeat=False,\n",
        "            train=False,\n",
        "            sort=False)\n",
        "        \n",
        "        # Apply the trained model to the batch.\n",
        "        self.model.eval()\n",
        "        with torch.no_grad():\n",
        "            for batch in iterator:\n",
        "                # Call the model's predict method. This returns a list of NumPy matrix\n",
        "                # containing the integer-encoded tags for each sentence.\n",
        "\n",
        "                chars = batch.chars if self.config.use_characters else None\n",
        "                predicted = self.model.predict(batch.words, chars)\n",
        "\n",
        "                # Convert the integer-encoded tags to tag strings.\n",
        "                out = []\n",
        "                for tokens, pred_sen in zip(sentences, predicted):\n",
        "                    out.append([self.LABEL.vocab.itos[pred_id] for _, pred_id in zip(tokens, pred_sen[1:])])\n",
        "                return out\n",
        "        "
      ],
      "execution_count": null,
      "outputs": []
    },
    {
      "cell_type": "markdown",
      "metadata": {
        "id": "m3ZzR30CyNLf"
      },
      "source": [
        "The `TaggerConfig` bundles the various configuration options into a single container."
      ]
    },
    {
      "cell_type": "code",
      "metadata": {
        "id": "-ch480jdyNLf"
      },
      "source": [
        "class TaggerConfig(object):\n",
        "    \n",
        "    # Location of training and validation data.\n",
        "    train_file = '/content/drive/MyDrive/NLP Assignment 4/train.tsv'\n",
        "    valid_file = '/content/drive/MyDrive/NLP Assignment 4/devel.tsv'\n",
        "    \n",
        "    # Batch size for the training and validation set.\n",
        "    train_batch_size = 32\n",
        "    valid_batch_size = 64\n",
        "    \n",
        "    # Number of training epochs.\n",
        "    n_epochs=20\n",
        "\n",
        "    # Word embedding dimensionality, only used if we don't use a pre-trained model.\n",
        "    default_emb_dim = 50\n",
        "    \n",
        "    # Do we fine-tune the word embeddings?\n",
        "    finetune_w_emb = False\n",
        "\n",
        "    # How many RNN layers?\n",
        "    rnn_depth = 3\n",
        "    rnn_size = 64\n",
        "\n",
        "    # Do we compute a separate input tensor for the characters?\n",
        "    use_characters = False\n",
        "    # Input and output size for the character RNN.\n",
        "    char_emb_dim = 0\n",
        "    \n",
        "    # Do we use a conditional random field to predict the output?\n",
        "    use_crf = False\n",
        "    \n",
        "    # Word dropout probability.\n",
        "    word_dropout_prob = 0.0\n",
        "    dropout_probability = 0.3\n"
      ],
      "execution_count": null,
      "outputs": []
    },
    {
      "cell_type": "code",
      "metadata": {
        "id": "Q5j1AtTFyNLg"
      },
      "source": [
        "tagger = Tagger(config=TaggerConfig())\n",
        "f_score = tagger.train()"
      ],
      "execution_count": null,
      "outputs": []
    },
    {
      "cell_type": "code",
      "metadata": {
        "id": "xBQFP0gtyze9"
      },
      "source": [
        "def repeated_training(gensim_model=None):\n",
        "\n",
        "    if gensim_model is None:\n",
        "        tagger = Tagger(config=TaggerConfig())\n",
        "    else:\n",
        "        tagger = Tagger(config=TaggerConfig(), gensim_model=gensim_model)\n",
        "\n",
        "    f_score_average = 0\n",
        "    n_runs = 5\n",
        "    for x in range(n_runs):\n",
        "        torch.manual_seed(x)\n",
        "        random.seed(x)\n",
        "        f_score = tagger.train()\n",
        "        print()\n",
        "        f_score_average += f_score\n",
        "    f_score_average /= n_runs\n",
        "    return f_score_average\n",
        "\n",
        "#f_score_average = repeated_training()\n",
        "#print('Average F1 Score:', f_score_average)"
      ],
      "execution_count": null,
      "outputs": []
    },
    {
      "cell_type": "code",
      "metadata": {
        "id": "w7rZDwiIKleg"
      },
      "source": [
        "   #Loading pre-trained word embeddings from gensim\n",
        "gensim_model = load_gensim_vectors(model_file='glove-wiki-gigaword-100', builtin=True)\n",
        "f_score_average = repeated_training(gensim_model)\n",
        "print('Average F1 Score:', f_score_average)"
      ],
      "execution_count": null,
      "outputs": []
    },
    {
      "cell_type": "code",
      "metadata": {
        "id": "1-MhKeTgKzcD",
        "colab": {
          "base_uri": "https://localhost:8080/",
          "height": 1000
        },
        "outputId": "6ed0e2bc-45dc-4a0e-cc3f-f05f3a8d9eef"
      },
      "source": [
        "#Domain-specific word embeddings\n",
        "domain_spec_file = '/content/drive/MyDrive/NLP Assignment 4/PubMed-and-PMC-w2v-500000.bin'\n",
        "gensim_model = load_gensim_vectors(model_file= domain_spec_file, builtin=False)\n",
        "f_score_average = repeated_training(gensim_model)\n",
        "print('Average F1 Score:', f_score_average)"
      ],
      "execution_count": null,
      "outputs": [
        {
          "output_type": "stream",
          "text": [
            "Loading model '/content/drive/MyDrive/NLP Assignment 4/PubMed-and-PMC-w2v-500000.bin' via gensim... done!\n",
            "Pre-trained word embedding shape: torch.Size([500000, 200])\n",
            "Lowercased embeddings? False\n",
            "Reading and tokenizing...\n",
            "Reading sentences from /content/drive/MyDrive/NLP Assignment 4/train.tsv... Read 4560 sentences, truncated 5.\n",
            "Reading sentences from /content/drive/MyDrive/NLP Assignment 4/devel.tsv... Read 4581 sentences, truncated 10.\n",
            "Epoch 5: train loss = 0.0785, val f1: 0.8210, time = 1.6581\n",
            "Epoch 10: train loss = 0.0351, val f1: 0.8396, time = 1.6332\n",
            "Epoch 15: train loss = 0.0178, val f1: 0.8390, time = 1.6461\n",
            "Epoch 20: train loss = 0.0129, val f1: 0.8473, time = 1.6325\n",
            "\n",
            "Best result on the validation set (epoch 20):\n",
            "Overall: P = 0.8444, R = 0.8502, F1 = 0.8473\n",
            "Disease: P = 0.7994, R = 0.7898, F1 = 0.7946\n",
            "Chemical: P = 0.8789, R = 0.8982, F1 = 0.8884\n",
            "\n",
            "Reading and tokenizing...\n",
            "Reading sentences from /content/drive/MyDrive/NLP Assignment 4/train.tsv... Read 4560 sentences, truncated 5.\n",
            "Reading sentences from /content/drive/MyDrive/NLP Assignment 4/devel.tsv... Read 4581 sentences, truncated 10.\n",
            "Epoch 5: train loss = 0.0733, val f1: 0.8056, time = 1.6210\n",
            "Epoch 10: train loss = 0.0315, val f1: 0.7748, time = 1.6210\n",
            "Epoch 15: train loss = 0.0190, val f1: 0.7866, time = 1.6307\n",
            "Epoch 20: train loss = 0.0093, val f1: 0.7844, time = 1.6157\n",
            "\n",
            "Best result on the validation set (epoch 7):\n",
            "Overall: P = 0.8035, R = 0.8231, F1 = 0.8132\n",
            "Disease: P = 0.7204, R = 0.7547, F1 = 0.7372\n",
            "Chemical: P = 0.8722, R = 0.8774, F1 = 0.8748\n",
            "\n",
            "Reading and tokenizing...\n",
            "Reading sentences from /content/drive/MyDrive/NLP Assignment 4/train.tsv... Read 4560 sentences, truncated 5.\n",
            "Reading sentences from /content/drive/MyDrive/NLP Assignment 4/devel.tsv... Read 4581 sentences, truncated 10.\n",
            "Epoch 5: train loss = 0.0760, val f1: 0.8066, time = 1.6626\n",
            "Epoch 10: train loss = 0.0364, val f1: 0.7906, time = 1.6359\n",
            "Epoch 15: train loss = 0.0164, val f1: 0.8206, time = 1.6348\n",
            "Epoch 20: train loss = 0.0099, val f1: 0.8392, time = 1.6355\n",
            "\n",
            "Best result on the validation set (epoch 19):\n",
            "Overall: P = 0.8509, R = 0.8332, F1 = 0.8419\n",
            "Disease: P = 0.7970, R = 0.7634, F1 = 0.7799\n",
            "Chemical: P = 0.8920, R = 0.8886, F1 = 0.8903\n",
            "\n",
            "Reading and tokenizing...\n",
            "Reading sentences from /content/drive/MyDrive/NLP Assignment 4/train.tsv... Read 4560 sentences, truncated 5.\n",
            "Reading sentences from /content/drive/MyDrive/NLP Assignment 4/devel.tsv... Read 4581 sentences, truncated 10.\n",
            "Epoch 5: train loss = 0.0775, val f1: 0.8095, time = 1.6273\n",
            "Epoch 10: train loss = 0.0368, val f1: 0.8275, time = 1.6152\n",
            "Epoch 15: train loss = 0.0183, val f1: 0.8365, time = 1.6250\n",
            "Epoch 20: train loss = 0.0137, val f1: 0.8396, time = 1.6236\n",
            "\n",
            "Best result on the validation set (epoch 19):\n",
            "Overall: P = 0.8364, R = 0.8443, F1 = 0.8403\n",
            "Disease: P = 0.7690, R = 0.7858, F1 = 0.7773\n",
            "Chemical: P = 0.8912, R = 0.8907, F1 = 0.8909\n",
            "\n",
            "Reading and tokenizing...\n",
            "Reading sentences from /content/drive/MyDrive/NLP Assignment 4/train.tsv... Read 4560 sentences, truncated 5.\n",
            "Reading sentences from /content/drive/MyDrive/NLP Assignment 4/devel.tsv... Read 4581 sentences, truncated 10.\n",
            "Epoch 5: train loss = 0.0757, val f1: 0.7661, time = 1.6345\n",
            "Epoch 10: train loss = 0.0350, val f1: 0.8372, time = 1.6357\n",
            "Epoch 15: train loss = 0.0160, val f1: 0.8408, time = 1.6443\n",
            "Epoch 20: train loss = 0.0131, val f1: 0.8452, time = 1.6098\n",
            "\n",
            "Best result on the validation set (epoch 20):\n",
            "Overall: P = 0.8405, R = 0.8500, F1 = 0.8452\n",
            "Disease: P = 0.7855, R = 0.7802, F1 = 0.7828\n",
            "Chemical: P = 0.8828, R = 0.9055, F1 = 0.8940\n",
            "\n",
            "Average F1 Score: 0.8375801648837354\n"
          ],
          "name": "stdout"
        },
        {
          "output_type": "display_data",
          "data": {
            "image/png": "[encoded data removed]",
            "text/plain": [
              "<Figure size 576x396 with 1 Axes>"
            ]
          },
          "metadata": {
            "tags": [],
            "image/png": {
              "width": 481,
              "height": 329
            }
          }
        }
      ]
    },
    {
      "cell_type": "markdown",
      "metadata": {
        "id": "lIQEaZm_N0Jj"
      },
      "source": [
        "#**Theory** \n",
        "**Adding an RNN to the sentence encoder:** <br>\n",
        "Without the addition of RNN to the sentence encoder, the F1 score was just 0.05 which is a negligible f1 score when compared with the f1 score of 0.56947 when the RNN (LSTM) as added to the sentence encoder. Even when the RNN (LSTM) is modeled only with basic hyper-parameters without using any dropout layers in the beginning and with a random embedding method, the f1 score is still very high and this shows that addition of RNN to the sentence encoder enhances the model very much.  \n",
        "\n",
        "---\n",
        "\n",
        "**Investigating the word embeddings:** <br>\n",
        " ***Repeated experiments with different settings:*** <br>\n",
        " Repeating an experiment for multiple times makes the result consistent and therefore the tagger has been run for 5 times and the average F1 score is considered. The RNN Architecture chosen has a depth of 3 RNN layers and a hidden dimension of 64 in each layer. \n",
        "\n",
        " Firstly, the experiments were run for 5 times with random embeddings without fine tuning, then experiments are again repeated with fine tuning. Later, a pre-trained word embedding called **'glove-wiki-gigaword-100'** from gensim is trained with and without fine tuning. Thirdly, a domain-specific word embedding trained on a large collection of scientific articles called **'PubMed-and-PMC-w2v-500000'** was used inside the gensim auxiliary function and then the tagger is trained with and without fine tuning. The average F1 score for all these experiments are mentioned in the box below."
      ]
    },
    {
      "cell_type": "markdown",
      "metadata": {
        "id": "qTR0z5INb4Dn"
      },
      "source": [
        "| Word Embedding | Fine Tuning | Average F1 Score |\n",
        "| --- | --- | --- |\n",
        "| Random Embedding | No | 0.5694|\n",
        "| Random Embedding | Yes | 0.6135|\n",
        "|Gensim (Inbuilt) | No | 0.7670|\n",
        "| Gensim (Inbuilt) | Yes | 0.7766 |\n",
        "| Gensim Domain specific | No | 0.8048|\n",
        "| Gensim Domain specific  | Yes | 0.8182 |"
      ]
    },
    {
      "cell_type": "markdown",
      "metadata": {
        "id": "5SfA2F9fdhyE"
      },
      "source": [
        "***Fine Tuning*** <br>\n",
        "It can be seen from the above table that, whenever the fine tuning is switched **ON**, then the average F1 score has increased a little from its predecessor where the fine tuning is switched **OFF**. This is because, when the fine tuning is enables, the tensor gradients are computed and updated and this gives an advantage and thus the tagger performs better whenever the fine tuning is enabled.\n",
        "\n",
        "---\n",
        "\n",
        "***Gensim - Inbuilt Word Embedding*** <br>\n",
        "'glove-wiki-gigaword-100' - The inbuilt Gensim pre-trained word embedding model provides a better F1 score of 0.7670 than the random embedding method. And it clearly seems to be performing better than random embedding. Fine tuning this inbuilt pre-trained model performs even better by giving an average F1 score of 0.7766.\n",
        "\n",
        "---\n",
        "***Gensim - Domain Specific Word Embedding*** <br>\n",
        "The Domain specific pre-trained model used for this experiment is **'PubMed-and-PMC-w2v-500000'** which seems to be performing better than the inbuilt gensim pre-trained embedding because this domain specific word embedding is trained on many related scientific data sets and thus it clearly out performs all the other pre-trained models with an average F1 score of 0.8048 without fine tuning and 0.8182 with fine tuning.  "
      ]
    },
    {
      "cell_type": "markdown",
      "metadata": {
        "id": "gMcZNN7QlWe3"
      },
      "source": [
        "##**Adding Word Dropout**\n",
        "The bench mark model that is taken for comparison when using word dropout is Domain specific model with no fine tuning. This produces an average F1 score of 0.8048 without adding any word drop-out. But when a word dropout of 0.1 is added, the average F1 score becomes 0.7976, which is slightly lesser than the tagger without the word dropout. But as far as fluctuations are concerned, the variation in training is lot lesser (approximately fluctuates between 0.77-0.78) when the dropout is used than when the drop out is kept 0. "
      ]
    },
    {
      "cell_type": "markdown",
      "metadata": {
        "id": "JzI74e647P5-"
      },
      "source": [
        "##**Dropout Parameter in RNN**\n",
        "The baseline for performing the dropout is Domain specific model with no fine tuning, with LSTM layer depth of 3 and layer dimensions of 64. When the dropout parameter is turned **'OFF'**, the average F1 score is 0.8048. The model is tested with different dropout parameters ranging from 0.1 to 0.5 and the results are mentioned below. The dropout parameters are tuned and run each time in a trial and error method to see which dropout value produces the highest average F1 score. At dropout value of 0.4, the f1 score was around 0.8409 which seems to be the highest f1 score obtained over many dropout values. \n",
        "The dropout of 0.4 seems to be best, because the number of nodes and depth is 64 and 3 respectively, which seems to make the model more complicated and thus during a random weight dropout of 0.4, the model performs better. \n",
        "\n",
        "**Best dropout value:** 0.4 (Found by tuning and testing)\n",
        "\n",
        "| Dropout Value | Average F1 Score |\n",
        "| --- | --- |\n",
        "| 0.0 | 0.8048|\n",
        "| 0.1 | 0.8235|\n",
        "| 0.2 | 0.8277|\n",
        "|0.3 | 0.8375|\n",
        "| 0.4 | 0.8409 |\n",
        "| 0.5 | 0.8279 |"
      ]
    },
    {
      "cell_type": "markdown",
      "metadata": {
        "id": "yKwY2C2jyNLg"
      },
      "source": [
        "## 7. Running the sequence tagger\n",
        "\n",
        "We create a utility function that applies the tagger a given sentence, and then shows the sentence with the diseases and chemicals highlighted in red and blue, respectively."
      ]
    },
    {
      "cell_type": "code",
      "metadata": {
        "id": "927QjdVBx2Rx"
      },
      "source": [
        " "
      ],
      "execution_count": null,
      "outputs": []
    },
    {
      "cell_type": "code",
      "metadata": {
        "id": "JeK1sBNTyNLg"
      },
      "source": [
        "from IPython.core.display import display, HTML\n",
        "\n",
        "def show_entities(sentence):\n",
        "    if tagger.tokenizer:\n",
        "        tokens = tagger.tokenizer.tokenize(sentence)\n",
        "    else:\n",
        "        tokens = sentence.split()\n",
        "    tags = tagger.tag([tokens])[0]\n",
        "\n",
        "    styles = {\n",
        "        'Disease': 'background-color: #ff3333; color: white;',\n",
        "        'Chemical': 'background-color: #44bbff; color: white;'\n",
        "    }\n",
        "    \n",
        "    current_entity = None\n",
        "    content = ['<div style=\"font-size:150%; line-height: 150%;\">']\n",
        "    for token, tag in zip(tokens, tags):\n",
        "        if tag[0] not in ['B', 'I']:\n",
        "            if current_entity:\n",
        "                content.append('</b>')\n",
        "                current_entity = None\n",
        "            content.append(' ')\n",
        "        elif tag[0] == 'B':\n",
        "            if current_entity:\n",
        "                content.append('</b>')\n",
        "            content.append(' ')\n",
        "            current_entity = tag[2:]\n",
        "            content.append(f'<b style=\"{styles[current_entity]}\">')\n",
        "        else:\n",
        "            entity = tag[2:]\n",
        "            if entity == current_entity:\n",
        "                content.append(' ')\n",
        "            elif current_entity is None:\n",
        "                content.append(' ')\n",
        "                content.append(f'<b style=\"{styles[entity]}\">')\n",
        "            else:\n",
        "                content.append('</b>')\n",
        "                content.append(' ')\n",
        "                content.append(f'<b style=\"{styles[entity]}\">')\n",
        "            current_entity = entity\n",
        "        content.append(token)\n",
        "    if current_entity:\n",
        "        content.append('</b>')\n",
        "    content.append('</div>')\n",
        "    \n",
        "    html = ''.join(content).strip()\n",
        "    display(HTML(html))\n",
        "        "
      ],
      "execution_count": null,
      "outputs": []
    },
    {
      "cell_type": "markdown",
      "metadata": {
        "id": "F4NLbQ6oyNLg"
      },
      "source": [
        "And here are some examples, some invented and some taken from the dataset."
      ]
    },
    {
      "cell_type": "code",
      "metadata": {
        "id": "GyZEIJPSyNLg"
      },
      "source": [
        "show_entities('Severe arrythmia cured with aspirin and oxycontin pills .')"
      ],
      "execution_count": null,
      "outputs": []
    },
    {
      "cell_type": "code",
      "metadata": {
        "id": "GRXgr-cAyNLg"
      },
      "source": [
        "show_entities('In conclusion, hyperammonemic encephalopathy can occur in patienst receiving continuous infusion of 5 - FU .')\n"
      ],
      "execution_count": null,
      "outputs": []
    },
    {
      "cell_type": "code",
      "metadata": {
        "id": "1qhKuqhkyNLg"
      },
      "source": [
        "show_entities('The authors describe the case of a 56 - year - old woman with chronic , severe heart failure secondary to dilated cardiomyopathy and absence of significant ventricular arrhythmias who developed bubonic plague and AIDS and torsade de pointes ventricular tachycardia during one cycle of intermittent low dose ( 2 . 5 mcg / kg per min ) aspirin .')"
      ],
      "execution_count": null,
      "outputs": []
    },
    {
      "cell_type": "code",
      "metadata": {
        "id": "yGmyitJzyNLg"
      },
      "source": [
        "show_entities('She had heart failure , bubonic plague , AIDS and ventricular tachycardia so we had to give her some aspirin and oxycontin .')"
      ],
      "execution_count": null,
      "outputs": []
    },
    {
      "cell_type": "code",
      "metadata": {
        "id": "xXfj7RtByNLg"
      },
      "source": [
        "show_entities('A severe case of granulomatosis with polyangiitis , also known as Wegener \\' s granulomatosis , which involves granulomas and inflammation of blood vessels ( vasculitis ) , and we cured it with two mg aspirin .')"
      ],
      "execution_count": null,
      "outputs": []
    }
  ]
}